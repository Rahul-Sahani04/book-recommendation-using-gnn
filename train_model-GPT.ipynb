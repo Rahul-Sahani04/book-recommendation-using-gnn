{
 "cells": [
  {
   "cell_type": "code",
   "execution_count": 1,
   "metadata": {},
   "outputs": [],
   "source": [
    "import pandas as pd\n",
    "import numpy as np\n",
    "from sklearn.preprocessing import LabelEncoder\n",
    "import torch\n",
    "from torch_geometric.data import Data\n"
   ]
  },
  {
   "cell_type": "code",
   "execution_count": 3,
   "metadata": {},
   "outputs": [
    {
     "name": "stderr",
     "output_type": "stream",
     "text": [
      "/var/folders/jm/l7z1pz590c340yqzvk57pbw00000gn/T/ipykernel_12395/3838673073.py:2: DtypeWarning: Columns (3) have mixed types. Specify dtype option on import or set low_memory=False.\n",
      "  books = pd.read_csv('data/Books.csv')\n"
     ]
    }
   ],
   "source": [
    "\n",
    "# Load datasets\n",
    "books = pd.read_csv('data/Books.csv')\n",
    "ratings = pd.read_csv('data/Ratings.csv')\n",
    "users = pd.read_csv('data/Users.csv')\n",
    "\n",
    "# Encode User-ID and ISBN to numerical values\n",
    "user_encoder = LabelEncoder()\n",
    "book_encoder = LabelEncoder()\n"
   ]
  },
  {
   "cell_type": "code",
   "execution_count": 4,
   "metadata": {},
   "outputs": [],
   "source": [
    "\n",
    "ratings['User-ID'] = user_encoder.fit_transform(ratings['User-ID'])\n",
    "ratings['ISBN'] = book_encoder.fit_transform(ratings['ISBN'])\n",
    "\n",
    "# Create node feature matrices (dummy features for now)\n",
    "num_users = ratings['User-ID'].max() + 1\n",
    "num_books = ratings['ISBN'].max() + 1\n",
    "\n",
    "# Features: Initialize dummy features (1 for all nodes)\n",
    "user_features = torch.ones((num_users, 1))\n",
    "book_features = torch.ones((num_books, 1))\n"
   ]
  },
  {
   "cell_type": "code",
   "execution_count": 5,
   "metadata": {},
   "outputs": [
    {
     "name": "stdout",
     "output_type": "stream",
     "text": [
      "Data(x=[445839, 1], edge_index=[2, 1149780], edge_attr=[1149780])\n"
     ]
    }
   ],
   "source": [
    "\n",
    "# Combine user and book features\n",
    "x = torch.cat([user_features, book_features], dim=0)\n",
    "\n",
    "# Create edge index and edge attributes (ratings as weights)\n",
    "user_indices = torch.tensor(ratings['User-ID'].values, dtype=torch.long)\n",
    "book_indices = torch.tensor(ratings['ISBN'].values + num_users, dtype=torch.long)  # Offset book indices\n",
    "edge_index = torch.stack([user_indices, book_indices], dim=0)\n",
    "\n",
    "# Edge weights: Ratings normalized between 0 and 1\n",
    "edge_attr = torch.tensor(ratings['Book-Rating'].values / ratings['Book-Rating'].max(), dtype=torch.float)\n",
    "\n",
    "# Build PyTorch Geometric graph\n",
    "data = Data(x=x, edge_index=edge_index, edge_attr=edge_attr)\n",
    "print(data)\n"
   ]
  },
  {
   "cell_type": "code",
   "execution_count": 6,
   "metadata": {},
   "outputs": [],
   "source": [
    "import torch.nn as nn\n",
    "from torch_geometric.nn import GCNConv\n",
    "\n",
    "class BookGNN(nn.Module):\n",
    "    def __init__(self, input_dim, hidden_dim, output_dim):\n",
    "        super(BookGNN, self).__init__()\n",
    "        self.conv1 = GCNConv(input_dim, hidden_dim)\n",
    "        self.conv2 = GCNConv(hidden_dim, output_dim)\n",
    "\n",
    "    def forward(self, x, edge_index, edge_attr):\n",
    "        x = self.conv1(x, edge_index, edge_weight=edge_attr)\n",
    "        x = torch.relu(x)\n",
    "        x = self.conv2(x, edge_index, edge_weight=edge_attr)\n",
    "        return x\n"
   ]
  },
  {
   "cell_type": "code",
   "execution_count": 7,
   "metadata": {},
   "outputs": [],
   "source": [
    "from torch.optim import Adam\n",
    "\n",
    "# Define the model, loss, and optimizer\n",
    "input_dim = 1  # Initial feature size\n",
    "hidden_dim = 64\n",
    "output_dim = 16  # Embedding size\n",
    "\n",
    "model = BookGNN(input_dim, hidden_dim, output_dim)\n",
    "optimizer = Adam(model.parameters(), lr=0.01)\n",
    "loss_fn = nn.MSELoss()\n"
   ]
  },
  {
   "cell_type": "code",
   "execution_count": 9,
   "metadata": {},
   "outputs": [
    {
     "name": "stdout",
     "output_type": "stream",
     "text": [
      "Epoch 1, Loss: 4.79559326171875\n",
      "Epoch 2, Loss: 0.606834352016449\n",
      "Epoch 3, Loss: 0.22045959532260895\n",
      "Epoch 4, Loss: 0.20439378917217255\n",
      "Epoch 5, Loss: 0.2571750581264496\n",
      "Epoch 6, Loss: 0.343279093503952\n",
      "Epoch 7, Loss: 0.39156877994537354\n",
      "Epoch 8, Loss: 0.37562716007232666\n",
      "Epoch 9, Loss: 0.3234677314758301\n",
      "Epoch 10, Loss: 0.27986496686935425\n",
      "Epoch 11, Loss: 0.24868036806583405\n",
      "Epoch 12, Loss: 0.23002441227436066\n",
      "Epoch 13, Loss: 0.21993345022201538\n",
      "Epoch 14, Loss: 0.21443592011928558\n",
      "Epoch 15, Loss: 0.21061564981937408\n",
      "Epoch 16, Loss: 0.2066454291343689\n",
      "Epoch 17, Loss: 0.2017355114221573\n",
      "Epoch 18, Loss: 0.19597670435905457\n",
      "Epoch 19, Loss: 0.18998436629772186\n",
      "Epoch 20, Loss: 0.1844744235277176\n",
      "Epoch 21, Loss: 0.17996174097061157\n",
      "Epoch 22, Loss: 0.1766582429409027\n",
      "Epoch 23, Loss: 0.1745181381702423\n",
      "Epoch 24, Loss: 0.1733422428369522\n",
      "Epoch 25, Loss: 0.1728324443101883\n",
      "Epoch 26, Loss: 0.17281672358512878\n",
      "Epoch 27, Loss: 0.17308466136455536\n",
      "Epoch 28, Loss: 0.17346632480621338\n",
      "Epoch 29, Loss: 0.17384152114391327\n",
      "Epoch 30, Loss: 0.17415688931941986\n",
      "Epoch 31, Loss: 0.17439238727092743\n",
      "Epoch 32, Loss: 0.17449897527694702\n",
      "Epoch 33, Loss: 0.1744777262210846\n",
      "Epoch 34, Loss: 0.17434652149677277\n",
      "Epoch 35, Loss: 0.1741335242986679\n",
      "Epoch 36, Loss: 0.17386354506015778\n",
      "Epoch 37, Loss: 0.17356882989406586\n",
      "Epoch 38, Loss: 0.17328022420406342\n",
      "Epoch 39, Loss: 0.17302335798740387\n",
      "Epoch 40, Loss: 0.17281575500965118\n",
      "Epoch 41, Loss: 0.17266462743282318\n",
      "Epoch 42, Loss: 0.17256633937358856\n",
      "Epoch 43, Loss: 0.17250752449035645\n",
      "Epoch 44, Loss: 0.172469824552536\n",
      "Epoch 45, Loss: 0.17243029177188873\n",
      "Epoch 46, Loss: 0.1723674088716507\n",
      "Epoch 47, Loss: 0.1722666621208191\n",
      "Epoch 48, Loss: 0.17212222516536713\n",
      "Epoch 49, Loss: 0.1719367951154709\n",
      "Epoch 50, Loss: 0.17171993851661682\n",
      "Epoch 51, Loss: 0.17148490250110626\n",
      "Epoch 52, Loss: 0.1712450087070465\n",
      "Epoch 53, Loss: 0.1710110753774643\n",
      "Epoch 54, Loss: 0.170789435505867\n",
      "Epoch 55, Loss: 0.1705816090106964\n",
      "Epoch 56, Loss: 0.17038504779338837\n",
      "Epoch 57, Loss: 0.1701943427324295\n",
      "Epoch 58, Loss: 0.17000268399715424\n",
      "Epoch 59, Loss: 0.16980376839637756\n",
      "Epoch 60, Loss: 0.16959282755851746\n",
      "Epoch 61, Loss: 0.16936717927455902\n",
      "Epoch 62, Loss: 0.16912661492824554\n",
      "Epoch 63, Loss: 0.16887307167053223\n",
      "Epoch 64, Loss: 0.1686098873615265\n",
      "Epoch 65, Loss: 0.16834115982055664\n",
      "Epoch 66, Loss: 0.1680704802274704\n",
      "Epoch 67, Loss: 0.16780053079128265\n",
      "Epoch 68, Loss: 0.1675323098897934\n",
      "Epoch 69, Loss: 0.16726507246494293\n",
      "Epoch 70, Loss: 0.16699658334255219\n",
      "Epoch 71, Loss: 0.16672372817993164\n",
      "Epoch 72, Loss: 0.1664433628320694\n",
      "Epoch 73, Loss: 0.1661529690027237\n",
      "Epoch 74, Loss: 0.16585135459899902\n",
      "Epoch 75, Loss: 0.1655387580394745\n",
      "Epoch 76, Loss: 0.16521644592285156\n",
      "Epoch 77, Loss: 0.16488629579544067\n",
      "Epoch 78, Loss: 0.16455017030239105\n",
      "Epoch 79, Loss: 0.16420932114124298\n",
      "Epoch 80, Loss: 0.16386419534683228\n",
      "Epoch 81, Loss: 0.1635143905878067\n",
      "Epoch 82, Loss: 0.16315892338752747\n",
      "Epoch 83, Loss: 0.16279669106006622\n",
      "Epoch 84, Loss: 0.16242679953575134\n",
      "Epoch 85, Loss: 0.16204899549484253\n",
      "Epoch 86, Loss: 0.1616635024547577\n",
      "Epoch 87, Loss: 0.1612710952758789\n",
      "Epoch 88, Loss: 0.16087275743484497\n",
      "Epoch 89, Loss: 0.16046926379203796\n",
      "Epoch 90, Loss: 0.1600610762834549\n",
      "Epoch 91, Loss: 0.15964815020561218\n",
      "Epoch 92, Loss: 0.1592300683259964\n",
      "Epoch 93, Loss: 0.15880633890628815\n",
      "Epoch 94, Loss: 0.15837664902210236\n",
      "Epoch 95, Loss: 0.15794117748737335\n",
      "Epoch 96, Loss: 0.15750069916248322\n",
      "Epoch 97, Loss: 0.15705634653568268\n",
      "Epoch 98, Loss: 0.15660932660102844\n",
      "Epoch 99, Loss: 0.15616075694561005\n",
      "Epoch 100, Loss: 0.15571150183677673\n"
     ]
    }
   ],
   "source": [
    "\n",
    "# Training loop\n",
    "epochs = 100\n",
    "for epoch in range(epochs):\n",
    "    model.train()\n",
    "    optimizer.zero_grad()\n",
    "    \n",
    "    # Forward pass\n",
    "    out = model(data.x, data.edge_index, data.edge_attr)\n",
    "    \n",
    "    # Compute loss (for example, reconstructing ratings)\n",
    "    # Here we need to map predictions back to edges and compare with true ratings\n",
    "    user_embeddings = out[data.edge_index[0]]\n",
    "    book_embeddings = out[data.edge_index[1]]\n",
    "    predicted_ratings = torch.sum(user_embeddings * book_embeddings, dim=1)\n",
    "    loss = loss_fn(predicted_ratings, data.edge_attr)\n",
    "    \n",
    "    loss.backward()\n",
    "    optimizer.step()\n",
    "    \n",
    "    print(f'Epoch {epoch + 1}, Loss: {loss.item()}')\n"
   ]
  },
  {
   "cell_type": "code",
   "execution_count": 10,
   "metadata": {},
   "outputs": [],
   "source": [
    "import time\n",
    "\n",
    "modelName = 'book_gnn_model-' + str(int(time.time())) + '.pth'\n",
    "torch.save(model.state_dict(), 'models/' + modelName)\n"
   ]
  },
  {
   "cell_type": "code",
   "execution_count": 11,
   "metadata": {},
   "outputs": [
    {
     "data": {
      "text/plain": [
       "BookGNN(\n",
       "  (conv1): GCNConv(1, 64)\n",
       "  (conv2): GCNConv(64, 16)\n",
       ")"
      ]
     },
     "execution_count": 11,
     "metadata": {},
     "output_type": "execute_result"
    }
   ],
   "source": [
    "# Test the model\n",
    "model.eval()"
   ]
  },
  {
   "cell_type": "code",
   "execution_count": null,
   "metadata": {},
   "outputs": [],
   "source": []
  }
 ],
 "metadata": {
  "kernelspec": {
   "display_name": "book-recommendation-using-gnn",
   "language": "python",
   "name": "python3"
  },
  "language_info": {
   "codemirror_mode": {
    "name": "ipython",
    "version": 3
   },
   "file_extension": ".py",
   "mimetype": "text/x-python",
   "name": "python",
   "nbconvert_exporter": "python",
   "pygments_lexer": "ipython3",
   "version": "3.12.5"
  }
 },
 "nbformat": 4,
 "nbformat_minor": 2
}
